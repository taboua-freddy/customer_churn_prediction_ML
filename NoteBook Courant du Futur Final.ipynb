{
 "cells": [
  {
   "cell_type": "markdown",
   "metadata": {},
   "source": [
    "<h1>Visualisation de données : Telecom Churn Prediction</h1>"
   ]
  },
  {
   "cell_type": "code",
   "execution_count": null,
   "metadata": {},
   "outputs": [],
   "source": [
    "import pandas as pd\n",
    "import numpy as np\n",
    "import seaborn as sns\n",
    "import matplotlib.ticker as mtick\n",
    "import matplotlib.pyplot as plt\n",
    "import plotly.graph_objs as go\n",
    "from scipy import stats\n",
    "from plotly.offline import iplot, init_notebook_mode"
   ]
  },
  {
   "cell_type": "code",
   "execution_count": null,
   "metadata": {},
   "outputs": [],
   "source": [
    "sns.set(style='white')\n",
    "pd.set_option('display.max_columns',None)\n"
   ]
  },
  {
   "cell_type": "code",
   "execution_count": null,
   "metadata": {},
   "outputs": [],
   "source": [
    "df=pd.read_excel(\"Telco_customer_churn.csv.xlsx\")"
   ]
  },
  {
   "cell_type": "code",
   "execution_count": null,
   "metadata": {},
   "outputs": [],
   "source": [
    "# Une fonction qui nous permet d'avoir un resumé rapide du dataset\n",
    "def resumetable(df):\n",
    "    print(f\"Dataset Shape: {df.shape}\")\n",
    "    summary = pd.DataFrame(df.dtypes,columns=['dtypes'])\n",
    "    summary = summary.reset_index()\n",
    "    summary['Nom'] = summary['index']\n",
    "    summary = summary[['Nom','dtypes']]\n",
    "    summary['Manquants'] = df.isnull().sum().values    \n",
    "    summary['Uniques'] = df.nunique().values\n",
    "    summary['Premiere Valeur'] = df.loc[0].values\n",
    "    summary['Deuxieme Valeur'] = df.loc[2].values\n",
    "    summary['Avant derniere Valeur'] = df.iloc[-2].values\n",
    "    summary['Derniere Valeur'] = df.iloc[-1].values\n",
    "\n",
    "    for name in summary['Nom'].value_counts().index:\n",
    "        summary.loc[summary['Nom'] == name, 'Entropy'] = round(stats.entropy(df[name].value_counts(normalize=True), base=10),2)\n",
    "    return summary"
   ]
  },
  {
   "cell_type": "code",
   "execution_count": null,
   "metadata": {
    "scrolled": true
   },
   "outputs": [],
   "source": [
    "resumetable(df)"
   ]
  },
  {
   "cell_type": "code",
   "execution_count": null,
   "metadata": {},
   "outputs": [],
   "source": [
    "df.describe()"
   ]
  },
  {
   "cell_type": "code",
   "execution_count": null,
   "metadata": {},
   "outputs": [],
   "source": [
    "print(df.columns.values)"
   ]
  },
  {
   "cell_type": "markdown",
   "metadata": {},
   "source": [
    "<p> On constate que le \"Total charges\" est un string, donc on va le convertir  en int</p> "
   ]
  },
  {
   "cell_type": "code",
   "execution_count": null,
   "metadata": {},
   "outputs": [],
   "source": [
    "# Le total charges est un string\n",
    "# donc on va le convertir en un type numeric\n",
    "df['Total Charges'] = pd.to_numeric(df['Total Charges'],errors='coerce')"
   ]
  },
  {
   "cell_type": "markdown",
   "metadata": {},
   "source": [
    "<p>On visualise le nombre de valeur null dans les champs</p>"
   ]
  },
  {
   "cell_type": "code",
   "execution_count": null,
   "metadata": {},
   "outputs": [],
   "source": [
    "df.isnull().sum()"
   ]
  },
  {
   "cell_type": "markdown",
   "metadata": {},
   "source": [
    "<p>On peut constater :</p> \n",
    "<ul>\n",
    "    <li>\n",
    "        qu'il ya 5174 personnes qui y sont encore\n",
    "    </li>\n",
    "    <li>\n",
    "        qu'il ya 11 'Total charges' non calculés\n",
    "    </li>\n",
    "</ul>\n",
    "\n",
    "<p>Le nombre de lignes contenant un 'Total charges' n'est pas considérables vu la taille des données donc on peut les supprimer :</p> "
   ]
  },
  {
   "cell_type": "code",
   "execution_count": null,
   "metadata": {},
   "outputs": [],
   "source": [
    "#df=df[pd.notnull(df['Total Charges'])]\n",
    "df=df[df['Total Charges'].notna()]"
   ]
  },
  {
   "cell_type": "code",
   "execution_count": null,
   "metadata": {},
   "outputs": [],
   "source": [
    "df.isnull().sum()"
   ]
  },
  {
   "cell_type": "code",
   "execution_count": null,
   "metadata": {},
   "outputs": [],
   "source": [
    "df.info()"
   ]
  },
  {
   "cell_type": "markdown",
   "metadata": {},
   "source": [
    "<p>On peut aussi observer si certaines variables (catégoriques) auront un impact sur les resultats, en utilisant les variables fictives :</p>"
   ]
  },
  {
   "cell_type": "code",
   "execution_count": null,
   "metadata": {},
   "outputs": [],
   "source": [
    "# je retire l'ID Custumer qui n'a pas d'impact\n",
    "df2= df.iloc[:,1:]\n",
    "df2=df2.drop(['Zip Code','Lat Long','Latitude','Longitude','Churn Label'],axis=1)\n",
    "df3=df2\n",
    "df_fic=pd.get_dummies(df2) # pour transformer toutes les variables categoriques en num\n",
    "df2"
   ]
  },
  {
   "cell_type": "code",
   "execution_count": null,
   "metadata": {},
   "outputs": [],
   "source": [
    "df2['Senior Citizen'].replace(to_replace='Yes',value=1,inplace=True)\n",
    "df2['Senior Citizen'].replace(to_replace='No',value=0,inplace=True)\n",
    "df2['Dependents'].replace(to_replace='Yes',value=1,inplace=True)\n",
    "df2['Dependents'].replace(to_replace='No',value=0,inplace=True)\n",
    "df2['Multiple Lines'].replace(to_replace='Yes',value=1,inplace=True)\n",
    "df2['Multiple Lines'].replace(to_replace='No',value=0,inplace=True)\n",
    "df2.tail()"
   ]
  },
  {
   "cell_type": "code",
   "execution_count": null,
   "metadata": {},
   "outputs": [],
   "source": [
    "corr_data=pd.DataFrame(df2)\n",
    "mask=np.zeros_like(corr_data)\n",
    "plt.figure(figsize=(10,7))\n",
    "sns.heatmap(corr_data.corr(),annot=True,linewidths=2)\n",
    "#df_fic.corr()['Churn Value'].sort_values(ascending = False).plot(kind='bar')"
   ]
  },
  {
   "cell_type": "markdown",
   "metadata": {},
   "source": [
    "<center><h1> Exploration Proprement Dite </h1></center>"
   ]
  },
  {
   "cell_type": "markdown",
   "metadata": {},
   "source": [
    "<p>Afin de mieux comprendre la tendance de nos données, il sera efficace pour nous de les explorer \n",
    "en visualisant les différentes tendances des variables ( de facon individuelles, en tranches puis en dès). \n",
    "Tout ceci pour se faire de probables hypothèses</p>"
   ]
  },
  {
   "cell_type": "markdown",
   "metadata": {},
   "source": [
    "<b>I. Démographie<b/>"
   ]
  },
  {
   "cell_type": "markdown",
   "metadata": {},
   "source": [
    "<b>I.1 Le sexe"
   ]
  },
  {
   "cell_type": "code",
   "execution_count": null,
   "metadata": {},
   "outputs": [],
   "source": [
    "colors=['#4D3425','#E4512B']\n",
    "ax=(df2['Gender'].value_counts()*100.0/len(df2)).plot(kind='bar',stacked=True,rot=0,color=colors)\n",
    "ax.yaxis.set_major_formatter(mtick.PercentFormatter())\n",
    "ax.set_ylabel(\"% Clients\")\n",
    "ax.set_xlabel(\"Sexe\")\n",
    "ax.set_ylabel(\"% Clients\")\n",
    "ax.set_title(\"Distribution Par Sexe\")\n",
    "\n",
    "\n",
    "#Collection des données dans une liste pour l'affichage\n",
    "#dans les barres\n",
    "totals=[]\n",
    "\n",
    "for i in ax.patches:\n",
    "    totals.append(i.get_width())\n",
    "\n",
    "total = sum(totals)\n",
    "\n",
    "for i in ax.patches:\n",
    "    ax.text(i.get_x()+.15,i.get_height()-3.5,\\\n",
    "            str(round((i.get_height()/total),1))+'%',\n",
    "            fontsize=12,\n",
    "            color='white',\n",
    "            weight = 'bold'\n",
    "           )\n",
    "    "
   ]
  },
  {
   "cell_type": "markdown",
   "metadata": {},
   "source": [
    "Ainsi on peut noter qu'environ la moitiée de notre DataSet est constituée d'hommes et l'autre moitiée de femmes"
   ]
  },
  {
   "cell_type": "markdown",
   "metadata": {},
   "source": [
    "<b>I.2 Les personnes agées"
   ]
  },
  {
   "cell_type": "code",
   "execution_count": null,
   "metadata": {},
   "outputs": [],
   "source": [
    "ax=(df3['Senior Citizen'].value_counts()*100.0/len(df3))\\\n",
    ".plot.pie(autopct='%.1f%%',labels=['No','Yes'],figsize=(5,5),fontsize=12)\n",
    "ax.yaxis.set_major_formatter(mtick.PercentFormatter())\n",
    "ax.set_ylabel('Personnes agées',fontsize = 12)\n",
    "ax.set_title('% des personnes agées', fontsize = 12)"
   ]
  },
  {
   "cell_type": "markdown",
   "metadata": {},
   "source": [
    "16,2% des clients est très agée, donc la plupart des personnes de notre dataset est jeune"
   ]
  },
  {
   "cell_type": "markdown",
   "metadata": {},
   "source": [
    "<b>I.3 Statut de partenaires et de personnes à charge"
   ]
  },
  {
   "cell_type": "code",
   "execution_count": null,
   "metadata": {},
   "outputs": [],
   "source": [
    "df4=pd.melt(df,id_vars=['CustomerID'],value_vars=['Dependents','Partner'])\n",
    "df5=df4.groupby(['variable','value']).count().unstack()\n",
    "df5=df5*100/len(df)\n",
    "colors = ['#4D3430','#E4512B']\n",
    "ax=df5.loc[:,'CustomerID'].plot.bar(stacked=True,color=colors,figsize=(8,6),rot=0,width=.2)\n",
    "\n",
    "ax.yaxis.set_major_formatter(mtick.PercentFormatter())\n",
    "ax.set_ylabel('% Clients',size = 14)\n",
    "ax.set_xlabel('')\n",
    "ax.set_title('% Clients ayant des partenaires ou des personnes à charges',size = 14)\n",
    "ax.legend(loc = 'center',prop={'size':14})\n",
    "\n",
    "for p in ax.patches:\n",
    "    width, height = p.get_width(), p.get_height()\n",
    "    x, y = p.get_xy() \n",
    "    ax.annotate('{:.0f}%'.format(height), (p.get_x()+.25*width, p.get_y()+.4*height),\n",
    "                color = 'white',\n",
    "               weight = 'bold',\n",
    "               size = 14)"
   ]
  },
  {
   "cell_type": "markdown",
   "metadata": {},
   "source": [
    "De cette figure on peut conclure que:\n",
    "<ul>\n",
    "    <li>23% des clients ont des personnes à charges</li>\n",
    "    <li>48% des clients ont des partenaires</li>\n",
    "</ul>\n",
    "\n",
    "Il serait aussi interessant de visualiser les clients ayant à la fois des partenaires et des personnes à charge"
   ]
  },
  {
   "cell_type": "code",
   "execution_count": null,
   "metadata": {},
   "outputs": [],
   "source": [
    "partner_dependents = df.groupby(['Partner','Dependents']).size().unstack()\n",
    "\n",
    "colors = ['#4D3430','#E4512B'] \n",
    "ax = (partner_dependents.T*100.0/partner_dependents.T.sum()).T.plot(kind='bar',width=0.2,stacked=True,rot=0,figsize=(8,6),color=colors)\n",
    "\n",
    "ax.yaxis.set_major_formatter(mtick.PercentFormatter())\n",
    "ax.legend(loc='center',prop={'size':14},title = 'Personnes à charges',fontsize =14)\n",
    "ax.set_ylabel('% Clients',size = 14)\n",
    "ax.set_title(\"% Clients avec/sans personnes à charge selon qu'ils ont ou non un partenaire\",size = 14)\n",
    "ax.xaxis.label.set_size(14)\n",
    "\n",
    "for p in ax.patches:\n",
    "    width, height = p.get_width(), p.get_height()\n",
    "    x, y = p.get_xy() \n",
    "    ax.annotate('{:.0f}%'.format(height), (p.get_x()+.25*width, p.get_y()+.4*height),\n",
    "                color = 'white',\n",
    "               weight = 'bold',\n",
    "               size = 14)"
   ]
  },
  {
   "cell_type": "markdown",
   "metadata": {},
   "source": [
    "On peut constater que :  \n",
    "<ul>\n",
    "    <li>La grande majorité (92%) des personnes n'ayant pas de partenaires n'ont pas de personnes à charge</li>\n",
    "    <li>40% des personnes ayant un partenaire a une personne à charge</li>\n",
    "</ul>"
   ]
  },
  {
   "cell_type": "markdown",
   "metadata": {},
   "source": [
    "<b>II. Information sur les comptes clients<b/>"
   ]
  },
  {
   "cell_type": "markdown",
   "metadata": {},
   "source": [
    "<b>II.1 Selon la durée d'abonnement "
   ]
  },
  {
   "cell_type": "code",
   "execution_count": null,
   "metadata": {},
   "outputs": [],
   "source": [
    "ax= sns.distplot(df['Tenure Months'],hist=True,kde=False,color='darkblue',\n",
    "                 hist_kws={'edgecolor':'black'},\n",
    "                kde_kws={'linewidth':6})\n",
    "ax.set_ylabel('Nombre de Clients')\n",
    "ax.set_xlabel(\"Durée d'abonnements(en mois)\")\n",
    "ax.set_title(\"Nombre de Clients par durée d'abonnements\")"
   ]
  },
  {
   "cell_type": "markdown",
   "metadata": {},
   "source": [
    "De cet histogramme nous pouvons constater:\n",
    "<ul>\n",
    "    <li>Q'un grand nombre (>1200) de clients vient de s'abonner à la socièté</li>\n",
    "    <li>Q'un grand nombre (entre 800 et 100) de clients s'est abonné à la socièté il ya environ 70 mois</li>\n",
    "</ul>\n",
    "\n",
    "Cela peut s'expliquer à cause du grand nombre de service. Et donc il ya des services interessants qui retiennent les clients et d'autres non"
   ]
  },
  {
   "cell_type": "markdown",
   "metadata": {},
   "source": [
    "<b>II.1 Selon le contrat"
   ]
  },
  {
   "cell_type": "code",
   "execution_count": null,
   "metadata": {},
   "outputs": [],
   "source": [
    "ax = df['Contract'].value_counts().plot(kind = 'bar',rot = 0, width = 0.5)\n",
    "ax.set_ylabel('Nombre de clients')\n",
    "ax.set_title('Nombre de clients par type de contrat')"
   ]
  },
  {
   "cell_type": "markdown",
   "metadata": {},
   "source": [
    "De cet histogramme on peut noter que \n",
    "<ul>\n",
    "    <li>la grande majorité des clients a un contrat de paie mensuel</li>\n",
    "    <li> Il ya un nombre presque égale entre les abonnés à contrat annuel et biannuel</li>\n",
    "</ul>\n",
    "\n",
    "\n",
    "Il serait interessant de visualiser la durée du contrat par type d'abonnements"
   ]
  },
  {
   "cell_type": "code",
   "execution_count": null,
   "metadata": {},
   "outputs": [],
   "source": [
    "fig, (ax1,ax2,ax3) = plt.subplots(nrows=3, ncols=1, sharey = True, figsize = (10,15))\n",
    "\n",
    "ax = sns.distplot(df[df['Contract']=='Month-to-month']['Tenure Months'],\n",
    "                   hist=True, kde=False, \n",
    "                  color = 'turquoise',\n",
    "                   hist_kws={'edgecolor':'black'},\n",
    "                   kde_kws={'linewidth': 4},\n",
    "                 ax=ax1)\n",
    "ax.set_ylabel('Nombre de clients')\n",
    "ax.set_xlabel(\"Durée d'abonnements (en mois)\")\n",
    "ax.set_title(\"Contrat Paiement Mensuel\")\n",
    "\n",
    "ax = sns.distplot(df[df['Contract']=='One year']['Tenure Months'],\n",
    "                   hist=True, kde=False,\n",
    "                  color = 'steelblue',\n",
    "                   hist_kws={'edgecolor':'black'},\n",
    "                   kde_kws={'linewidth': 4},\n",
    "                 ax=ax2)\n",
    "ax.set_xlabel('Durée du contrat (mois)',size = 14)\n",
    "ax.set_title('Contrat Paiement Annuel',size = 14)\n",
    "\n",
    "ax = sns.distplot(df[df['Contract']=='Two year']['Tenure Months'],\n",
    "                   hist=True, kde=False,\n",
    "                  color = 'darkblue',\n",
    "                   hist_kws={'edgecolor':'black'},\n",
    "                   kde_kws={'linewidth': 4},\n",
    "                 ax=ax3)\n",
    "\n",
    "ax.set_xlabel(\"Durée d'abonnements(mois)\")\n",
    "ax.set_title('Contrat paiement biannuel')"
   ]
  },
  {
   "cell_type": "markdown",
   "metadata": {},
   "source": [
    "De ces graphes nous constatons que :\n",
    "<ul>\n",
    "    <li>Les contrats avec paiement Mensuel dure environ 2 mois</li>\n",
    "    <li> Ceux qui sont le plus fidèle sont les clients ayant souscrit à des services avec contrat à paiement Biannule  avec une durée de plus de 70 mois </li>\n",
    "</ul>"
   ]
  },
  {
   "cell_type": "markdown",
   "metadata": {},
   "source": [
    "<b>III. Information sur la repartition des services<b/>"
   ]
  },
  {
   "cell_type": "code",
   "execution_count": null,
   "metadata": {},
   "outputs": [],
   "source": [
    "df.columns.values"
   ]
  },
  {
   "cell_type": "code",
   "execution_count": null,
   "metadata": {},
   "outputs": [],
   "source": [
    "services = ['Phone Service',\n",
    "       'Multiple Lines', 'Internet Service', 'Online Security',\n",
    "       'Online Backup', 'Device Protection', 'Tech Support',\n",
    "       'Streaming TV', 'Streaming Movies']\n",
    "fig,axes = plt.subplots(nrows=3,ncols=3,figsize=(15,12))\n",
    "for i,item in enumerate(services):\n",
    "    if i<3:\n",
    "        ax=df[item].value_counts().plot(kind='bar',ax=axes[i,0],rot=0)\n",
    "    elif i>=3 and i <6:\n",
    "        ax = df[item].value_counts().plot(kind = 'bar',ax=axes[i-3,1],rot = 0)\n",
    "    elif i<9:\n",
    "        ax = df[item].value_counts().plot(kind = 'bar',ax=axes[i-6,2],rot = 0)\n",
    "    ax.set_title(item)"
   ]
  },
  {
   "cell_type": "markdown",
   "metadata": {},
   "source": [
    "On peut ainsi faire une liste des services les plus utilisées :\n",
    "<ul type=\"square\">\n",
    "    <li>Phones services</li>\n",
    "    <li> Streaming Service</li>\n",
    "    <li> Streaming Movies</li>\n",
    "    <li> Internet (Fibre optique)</li>\n",
    "</ul>"
   ]
  },
  {
   "cell_type": "markdown",
   "metadata": {},
   "source": [
    "<b>IV. Relation entre les frais mensuels et les frais totaux<b/>"
   ]
  },
  {
   "cell_type": "code",
   "execution_count": null,
   "metadata": {},
   "outputs": [],
   "source": [
    "df[['Monthly Charges','Total Charges']].plot.scatter(x='Monthly Charges',y='Total Charges')"
   ]
  },
  {
   "cell_type": "markdown",
   "metadata": {},
   "source": [
    "De cette figure nous constatons que le total des frais augmente au fur et à mesure que la facture mensuelle d'un client augmente."
   ]
  },
  {
   "cell_type": "markdown",
   "metadata": {},
   "source": [
    "<b>V. Une analyse sur l'étiquettte (churn)<b/>"
   ]
  },
  {
   "cell_type": "markdown",
   "metadata": {},
   "source": [
    "<b>V.1 Taux de résiliation<b/>"
   ]
  },
  {
   "cell_type": "code",
   "execution_count": null,
   "metadata": {},
   "outputs": [],
   "source": [
    "colors = ['#4D3425','#E4512B']\n",
    "ax = (df['Churn Label'].value_counts()*100.0/len(df)).plot(kind='bar',\n",
    "                                                      stacked = True,\n",
    "                                                      rot = 0,\n",
    "                                                      color = colors,\n",
    "                                                      figsize = (8,6))\n",
    "ax.yaxis.set_major_formatter(mtick.PercentFormatter())\n",
    "ax.set_ylabel('% Clients',size = 14)\n",
    "ax.set_xlabel('Désabonnements(Churn)',size = 14)\n",
    "ax.set_title('Taux de désabonnement', size = 14)\n",
    "\n",
    "\n",
    "#On affiche le taux sur chaque barre de l'histogramme\n",
    "totals = []\n",
    "\n",
    "for i in ax.patches:\n",
    "    totals.append(i.get_width())\n",
    "\n",
    "\n",
    "total = sum(totals)\n",
    "\n",
    "for i in ax.patches:\n",
    "    ax.text(i.get_x()+.15, i.get_height()-4.0, \\\n",
    "            str(round((i.get_height()/total), 1))+'%',\n",
    "            fontsize=12,\n",
    "            color='white',\n",
    "           weight = 'bold',\n",
    "           size = 14)"
   ]
  },
  {
   "cell_type": "markdown",
   "metadata": {},
   "source": [
    "Ainsi:\n",
    "<ul type=\"square\">\n",
    "    <li>73.4% des clients ne sont pas désabonnés</li>\n",
    "    <li>26.4% des clients se sont désabonnées</li>\n",
    "</ul>"
   ]
  },
  {
   "cell_type": "markdown",
   "metadata": {},
   "source": [
    "<b>V.2 Désabonnement & Durée d'abonnements<b/>"
   ]
  },
  {
   "cell_type": "code",
   "execution_count": null,
   "metadata": {},
   "outputs": [],
   "source": [
    "sns.boxplot(x = df['Churn Label'], y = df['Tenure Months']).set(xlabel='Désabonnement',ylabel=\"Durée d'abonnement (mois)\")"
   ]
  },
  {
   "cell_type": "markdown",
   "metadata": {},
   "source": [
    "Ceux qui résilient leur contrat sont pour la majorité ceux qui ne durent pas dans l'entreprise"
   ]
  },
  {
   "cell_type": "markdown",
   "metadata": {},
   "source": [
    "<b>V.3 Désabonnement & la catégorie d'age<b/>"
   ]
  },
  {
   "cell_type": "code",
   "execution_count": null,
   "metadata": {},
   "outputs": [],
   "source": [
    "colors = ['#4D3425','#E4512B']\n",
    "seniority_churn = df.groupby(['Senior Citizen','Churn Label']).size().unstack()\n",
    "\n",
    "ax=(seniority_churn.T*100.0/seniority_churn.T.sum()).T.plot(kind='bar',\n",
    "                                                            width=0.2,\n",
    "                                                            stacked=True,\n",
    "                                                            rot=0,\n",
    "                                                            figsize=(8,5),\n",
    "                                                            color=colors\n",
    "                                                           )\n",
    "ax.yaxis.set_major_formatter(mtick.PercentFormatter())\n",
    "ax.legend(loc='center',prop={'size':14},title='Désabonnement')\n",
    "ax.set_ylabel('% Clients')\n",
    "ax.set_title(\"Désabonnement par catégorie d'age(Personne agée)\",size = 14)\n",
    "\n",
    "for p in ax.patches:\n",
    "    width, height = p.get_width(), p.get_height()\n",
    "    x, y = p.get_xy() \n",
    "    ax.annotate('{:.0f}%'.format(height), (p.get_x()+.25*width, p.get_y()+.4*height),\n",
    "                color = 'white',\n",
    "               weight = 'bold',size =14)"
   ]
  },
  {
   "cell_type": "markdown",
   "metadata": {},
   "source": [
    "Les clients qui resilient plus leur contrat sont les personnes les agées ( 2 fois plus elevé que les jeunes)"
   ]
  },
  {
   "cell_type": "markdown",
   "metadata": {},
   "source": [
    "<b>V.4 Désabonnement, charges Mensuelles & Quelques services<b/>"
   ]
  },
  {
   "cell_type": "code",
   "execution_count": null,
   "metadata": {},
   "outputs": [],
   "source": [
    "color_op = ['#5527A0', '#BB93D7', '#834CF7', '#6C941E', '#93EAEA', '#7425FF', '#F2098A', '#7E87AC', \n",
    "            '#EBE36F', '#7FD394', '#49C35D', '#3058EE', '#44FDCF', '#A38F85', '#C4CEE0', '#B63A05', \n",
    "            '#4856BF', '#F0DB1B', '#9FDBD9', '#B123AC']\n",
    "\n",
    "def PieChart(df_cat, df_value, title, limit=15):\n",
    "    tmp_churn = df[df['Churn Value'] == 1].groupby(df_cat)[df_value].sum().nlargest(limit).to_frame().reset_index()\n",
    "    tmp_no_churn = df[df['Churn Value'] == 0].groupby(df_cat)[df_value].sum().nlargest(limit).to_frame().reset_index()\n",
    "\n",
    "    trace1 = go.Pie(labels=tmp_no_churn[df_cat], \n",
    "                    values=tmp_no_churn[df_value], name= \"No-Churn\", hole= .5, \n",
    "                    hoverinfo=\"label+percent+name+value\", showlegend=True,\n",
    "                    domain= {'x': [0, .48]})\n",
    "\n",
    "    trace2 = go.Pie(labels=tmp_churn[df_cat], \n",
    "                    values=tmp_churn[df_value], name=\"Churn\", hole= .5, \n",
    "                    hoverinfo=\"label+percent+name+value\", showlegend=False, \n",
    "                    domain= {'x': [.52, 1]})\n",
    "\n",
    "    layout = dict(title= title, height=450, font=dict(size=15),\n",
    "                  annotations = [\n",
    "                      dict(\n",
    "                          x=.20, y=.5,\n",
    "                          text='No Churn', \n",
    "                          showarrow=False,\n",
    "                          font=dict(size=20)\n",
    "                      ),\n",
    "                      dict(\n",
    "                          x=.80, y=.5,\n",
    "                          text='Churn', \n",
    "                          showarrow=False,\n",
    "                          font=dict(size=20)\n",
    "                      )\n",
    "        ])\n",
    "\n",
    "    fig = dict(data=[trace1, trace2], layout=layout)\n",
    "    iplot(fig)"
   ]
  },
  {
   "cell_type": "markdown",
   "metadata": {},
   "source": [
    "<b>V.5.1 Internets<b/>"
   ]
  },
  {
   "cell_type": "code",
   "execution_count": null,
   "metadata": {},
   "outputs": [],
   "source": [
    "no_churn_monthly_renenue = df['Monthly Charges'].sum()\n",
    "PieChart(\"Internet Service\", 'Monthly Charges', \"Désabonnement Par service Internet\", limit=10)"
   ]
  },
  {
   "cell_type": "markdown",
   "metadata": {},
   "source": [
    "La majorité des clients souscrivent plus au service de Fibre optique et se désabonnent aussi le plus de ce service"
   ]
  },
  {
   "cell_type": "markdown",
   "metadata": {},
   "source": [
    "<b>V.5.2 Types de contrats<b/>"
   ]
  },
  {
   "cell_type": "code",
   "execution_count": null,
   "metadata": {},
   "outputs": [],
   "source": [
    "PieChart(\"Contract\", 'Monthly Charges', \"Désabonnement par type de contrat avec pourcentage de frais mensuelles\", limit=10)"
   ]
  },
  {
   "cell_type": "markdown",
   "metadata": {},
   "source": [
    "<b>V.5.3 Multiples Lines<b/>"
   ]
  },
  {
   "cell_type": "code",
   "execution_count": null,
   "metadata": {},
   "outputs": [],
   "source": [
    "PieChart(\"Multiple Lines\", 'Monthly Charges', \"Désabonnement par Types de Lignes\", limit=10)"
   ]
  },
  {
   "cell_type": "markdown",
   "metadata": {},
   "source": [
    "<b>V.5.3 Protection de l'appareil<b/>"
   ]
  },
  {
   "cell_type": "code",
   "execution_count": null,
   "metadata": {},
   "outputs": [],
   "source": [
    "PieChart(\"Device Protection\", 'Monthly Charges', \"Désabonnement de client ayant souscrit à un service internet avec protection de l'appareil\", limit=10)\n"
   ]
  },
  {
   "cell_type": "markdown",
   "metadata": {},
   "source": [
    "Un résumé général sur les services"
   ]
  },
  {
   "cell_type": "code",
   "execution_count": null,
   "metadata": {},
   "outputs": [],
   "source": [
    "\n",
    "df.loc[:,'Engaged'] = np.where(df['Contract'] != 'Month-to-month', 1,0)\n",
    "df.loc[:,'YandNotE'] = np.where((df['Senior Citizen']==0) & (df['Engaged']==0), 1,0)\n",
    "df.loc[:,'ElectCheck'] = np.where((df['Payment Method'] == 'Electronic check') & (df['Engaged']==0), 1,0)\n",
    "df.loc[:,'fiberopt'] = np.where((df['Internet Service'] != 'Fiber optic'), 1,0)\n",
    "df.loc[:,'StreamNoInt'] = np.where((df['Streaming TV'] != 'No internet service'), 1,0)\n",
    "df.loc[:,'NoProt'] = np.where((df['Online Backup'] != 'No') |\\\n",
    "                                    (df['Device Protection'] != 'No') |\\\n",
    "                                    (df['Tech Support'] != 'No'), 1,0)\n",
    "\n",
    "df['TotalServices'] = (df[['Phone Service', 'Internet Service', 'Online Security',\n",
    "                                       'Online Backup', 'Device Protection', 'Tech Support',\n",
    "                                       'Streaming TV', 'Streaming Movies']]== 'Yes').sum(axis=1)"
   ]
  },
  {
   "cell_type": "code",
   "execution_count": null,
   "metadata": {},
   "outputs": [],
   "source": [
    "from sklearn.preprocessing import LabelEncoder\n",
    "\n",
    "#encodage de l'etiquette\n",
    "le = LabelEncoder()\n",
    "\n",
    "tmp_churn = df[df['Churn Value'] == 1]\n",
    "tmp_no_churn = df[df['Churn Value'] == 0]\n",
    "\n",
    "bi_cs = df.nunique()[df.nunique() == 2].keys()\n",
    "dat_rad = df[bi_cs]\n",
    "\n",
    "for cols in bi_cs :\n",
    "    tmp_churn[cols] = le.fit_transform(tmp_churn[cols])\n",
    "    \n",
    "\n",
    "data_frame_x = tmp_churn[bi_cs].sum().reset_index()\n",
    "data_frame_x.columns  = [\"feature\",\"yes\"]\n",
    "data_frame_x[\"no\"]    = tmp_churn.shape[0]  - data_frame_x[\"yes\"]\n",
    "data_frame_x  = data_frame_x[data_frame_x[\"feature\"] != \"Churn\"]\n",
    "\n",
    "#nombre de 1 (oui)\n",
    "trace1 = go.Scatterpolar(r = data_frame_x[\"yes\"].values.tolist(), \n",
    "                         theta = data_frame_x[\"feature\"].tolist(),\n",
    "                         fill  = \"toself\",name = \"Churn 1's\",\n",
    "                         mode = \"markers+lines\", visible=True,\n",
    "                         marker = dict(size = 5)\n",
    "                        )\n",
    "\n",
    "#nombre de 0 (non)\n",
    "trace2 = go.Scatterpolar(r = data_frame_x[\"no\"].values.tolist(),\n",
    "                         theta = data_frame_x[\"feature\"].tolist(),\n",
    "                         fill  = \"toself\",name = \"Churn 0's\",\n",
    "                         mode = \"markers+lines\", visible=True,\n",
    "                         marker = dict(size = 5)\n",
    "                        ) \n",
    "for cols in bi_cs :\n",
    "    tmp_no_churn[cols] = le.fit_transform(tmp_no_churn[cols])\n",
    "    \n",
    "data_frame_x = tmp_no_churn[bi_cs].sum().reset_index()\n",
    "data_frame_x.columns  = [\"feature\",\"yes\"]\n",
    "data_frame_x[\"no\"]    = tmp_no_churn.shape[0]  - data_frame_x[\"yes\"]\n",
    "data_frame_x  = data_frame_x[data_frame_x[\"feature\"] != \"Churn\"]\n",
    "\n",
    "#nombre de 1(oui)\n",
    "trace3 = go.Scatterpolar(r = data_frame_x[\"yes\"].values.tolist(),\n",
    "                         theta = data_frame_x[\"feature\"].tolist(),\n",
    "                         fill  = \"toself\",name = \"NoChurn 1's\",\n",
    "                         mode = \"markers+lines\", visible=False,\n",
    "                         marker = dict(size = 5)\n",
    "                        )\n",
    "\n",
    "#nombre de 0(non)\n",
    "trace4 = go.Scatterpolar(r = data_frame_x[\"no\"].values.tolist(),\n",
    "                         theta = data_frame_x[\"feature\"].tolist(),\n",
    "                         fill  = \"toself\",name = \"NoChurn 0's\",\n",
    "                         mode = \"markers+lines\", visible=False,\n",
    "                         marker = dict(size = 5)\n",
    "                        ) \n",
    "\n",
    "data = [trace1, trace2, trace3, trace4]\n",
    "\n",
    "updatemenus = list([\n",
    "    dict(active=0,\n",
    "         x=-0.15,\n",
    "         buttons=list([  \n",
    "            dict(\n",
    "                label = 'Dist Désabonné',\n",
    "                 method = 'update',\n",
    "                 args = [{'visible': [True, True, False, False]}, \n",
    "                     {'title': \"Repartition du nombre de Clients s'étant désabonné par service\"}]),\n",
    "             \n",
    "             dict(\n",
    "                  label = 'Dest Non-Désabonné',\n",
    "                 method = 'update',\n",
    "                 args = [{'visible': [False, False, True, True]},\n",
    "                     {'title': \"Repartition du nombre de Clients ne s'étant pas désabonné par service\"}]),\n",
    "\n",
    "        ]),\n",
    "    )\n",
    "])\n",
    "\n",
    "layout = dict(title='ScatterPolar de désabonnement des Clients', \n",
    "              showlegend=False,\n",
    "              updatemenus=updatemenus)\n",
    "\n",
    "fig = dict(data=data, layout=layout)\n",
    "\n",
    "iplot(fig)"
   ]
  },
  {
   "cell_type": "markdown",
   "metadata": {},
   "source": [
    "<b>V.6 Désabonnement & les charges mensuelles<b/>"
   ]
  },
  {
   "cell_type": "code",
   "execution_count": null,
   "metadata": {},
   "outputs": [],
   "source": [
    "ax=sns.kdeplot(df['Monthly Charges'][(df['Churn Label']=='No')],\n",
    "              color='Red',shade=True)\n",
    "ax=sns.kdeplot(df['Monthly Charges'][(df['Churn Label']=='Yes')],\n",
    "              color='Blue',shade=True)\n",
    "ax.legend([\"Abonné\",\"Désabonné\"],loc='upper right')\n",
    "ax.set_ylabel('Densité')\n",
    "ax.set_xlabel('Charges Mensuelles')\n",
    "ax.set_title('Distribution de désabonnement par charge Mensuel')"
   ]
  },
  {
   "cell_type": "markdown",
   "metadata": {},
   "source": [
    "On peut voir que <b>plus la charge mensuelle augmente, plus les clients se désabonnent"
   ]
  },
  {
   "cell_type": "markdown",
   "metadata": {},
   "source": [
    "<b>V.6 Désabonnement & les charges Totales<b/>"
   ]
  },
  {
   "cell_type": "code",
   "execution_count": null,
   "metadata": {},
   "outputs": [],
   "source": [
    "ax=sns.kdeplot(df['Total Charges'][(df['Churn Label']=='No')],\n",
    "              color='Red',shade=True)\n",
    "ax=sns.kdeplot(df['Total Charges'][(df['Churn Label']=='Yes')],\n",
    "              color='Blue',shade=True)\n",
    "ax.legend([\"Abonné\",\"Désabonné\"],loc='upper right')\n",
    "ax.set_ylabel('Densité')\n",
    "ax.set_xlabel('Charges Mensuelles')\n",
    "ax.set_title('Distribution de désabonnement par charge Mensuel')"
   ]
  },
  {
   "cell_type": "markdown",
   "metadata": {},
   "source": [
    "Le graphe laisse voir que <b>plus le taux de charges totales augmentent, moins il ya de résilitation"
   ]
  },
  {
   "cell_type": "markdown",
   "metadata": {},
   "source": [
    "<center><h1> Quelques Algorithmes Prédictifs </h1></center>"
   ]
  },
  {
   "cell_type": "code",
   "execution_count": null,
   "metadata": {},
   "outputs": [],
   "source": [
    "import numpy as np\n",
    "import pandas as pd\n",
    "import matplotlib.pyplot as plt\n",
    "from sklearn.feature_selection import SelectKBest,chi2\n",
    "import seaborn as sns\n",
    "import operator\n",
    "from tabulate import tabulate"
   ]
  },
  {
   "cell_type": "code",
   "execution_count": null,
   "metadata": {},
   "outputs": [],
   "source": [
    "from sklearn.preprocessing import LabelEncoder,StandardScaler\n",
    "from sklearn.pipeline import make_pipeline\n",
    "from sklearn.model_selection import train_test_split,learning_curve,GridSearchCV,cross_val_score\n",
    "from sklearn.svm import SVC,LinearSVC\n",
    "from sklearn.linear_model import LogisticRegression\n",
    "from sklearn.neighbors import KNeighborsClassifier\n",
    "from sklearn.feature_selection import SelectKBest,f_classif\n",
    "from sklearn.ensemble import RandomForestClassifier,GradientBoostingClassifier\n",
    "from sklearn.tree import DecisionTreeClassifier\n",
    "from IPython.display import display, HTML\n",
    "from sklearn.naive_bayes import ComplementNB,GaussianNB,MultinomialNB,BernoulliNB,CategoricalNB\n",
    "from sklearn.metrics import auc,confusion_matrix,precision_score,precision_recall_fscore_support ,f1_score,consensus_score,recall_score,accuracy_score,plot_confusion_matrix,classification_report,precision_recall_curve,roc_auc_score,roc_curve\n",
    "from xgboost import XGBClassifier # à installer\n",
    "from lightgbm import LGBMClassifier # à installer"
   ]
  },
  {
   "cell_type": "code",
   "execution_count": null,
   "metadata": {},
   "outputs": [],
   "source": [
    "pd.set_option(\"Display.max_columns\",100)\n",
    "import warnings\n",
    "warnings.filterwarnings('ignore') "
   ]
  },
  {
   "cell_type": "code",
   "execution_count": null,
   "metadata": {},
   "outputs": [],
   "source": [
    "df= pd.read_excel(\"Telco_customer_churn.csv.xlsx\")\n",
    "\n",
    "encodeur = LabelEncoder()\n",
    "scaler=StandardScaler()"
   ]
  },
  {
   "cell_type": "markdown",
   "metadata": {},
   "source": [
    "<h1>Nettoyage</h1>"
   ]
  },
  {
   "cell_type": "code",
   "execution_count": null,
   "metadata": {},
   "outputs": [],
   "source": [
    "df[\"Total Charges\"]=pd.to_numeric(df[\"Total Charges\"],errors=\"coerce\")\n",
    "df[\"Total Charges\"]=df[\"Total Charges\"].astype(float)\n",
    "df=df[df[\"Total Charges\"].notna()]\n"
   ]
  },
  {
   "cell_type": "code",
   "execution_count": null,
   "metadata": {},
   "outputs": [],
   "source": [
    "print(\"il y a {} valeur nulle\".format(df.iloc[:,:-1].isnull().sum().sum()) )\n"
   ]
  },
  {
   "cell_type": "markdown",
   "metadata": {},
   "source": [
    "<h1>Fonctions utiles</h1>"
   ]
  },
  {
   "cell_type": "code",
   "execution_count": null,
   "metadata": {},
   "outputs": [],
   "source": [
    "# pour evaluer une liste d'algorithme\n",
    "def evaluation(x_train,y_train,x_test,y_test,modelList={},confusion=False,roc_cu=True,learning_cu=False):\n",
    "    areas={}\n",
    "    models={}\n",
    "    if len(modelList)!=0:\n",
    "        if roc_cu:\n",
    "            plt.figure(figsize=(12,8))\n",
    "            plt.plot([0,1],[0,1],\"r\")\n",
    "        for k,model in modelList.items():\n",
    "            model.fit(x_train,y_train)\n",
    "            models[k]=model\n",
    "            if roc_cu:\n",
    "                probs = model.predict_proba(x_test)[:,1]\n",
    "                fpr , tpr , thresholds = roc_curve(y_test,probs)\n",
    "                areas[k]=roc_auc_score(y_test,probs)\n",
    "                plt.plot(fpr,tpr,\"\",label=k)\n",
    "        if roc_cu:\n",
    "            plt.legend()\n",
    "            plt.show()\n",
    "    \n",
    "    areas = dict(sorted(areas.items(),key=operator.itemgetter(1),reverse=True))\n",
    "    \n",
    "    for k,area in areas.items():\n",
    "        print(f\"l aire du modele {k} est {area}\")\n",
    "    \n",
    "    if confusion:\n",
    "        for k,model in models.items():\n",
    "            plt.figure()\n",
    "            y_pred = model.predict(x_test)\n",
    "            print(f\"modele {k}\")\n",
    "            plot_confusion_matrix(model,x_test,y_test,display_labels=[\"No churn\",\"Churn\"])\n",
    "            print(classification_report(y_test,y_pred,digits=6,target_names=[\"No churn\",\"Churn\"]))\n",
    "            plt.show()\n",
    "    \n",
    "    if learning_cu:\n",
    "        for k,model in models.items():\n",
    "            N,train_score,val_score_train=learning_curve(model,x_train,y_train,cv=5,scoring=\"f1\",train_sizes=np.linspace(0.1,1,10))\n",
    "            #N,test_score,val_score_test=learning_curve(model,x_test,y_test,cv=5,scoring=\"f1\",train_sizes=np.linspace(0.1,1,10))\n",
    "            plt.figure(figsize=(12,8))\n",
    "            plt.plot(N,train_score.mean(axis=1),label=\"Train score\")\n",
    "            plt.plot(N,val_score_train.mean(axis=1),label=\"validation score train\")\n",
    "            #plt.plot(N,test_score.mean(axis=1),label=\"Test score\")\n",
    "            #plt.plot(N,val_score_test.mean(axis=1),label=\"validation score test\")\n",
    "            plt.title(f\"Modèle {k} \")\n",
    "            plt.legend()\n",
    "    return models\n",
    "            \n",
    "            \n",
    "def featuresImportances(model,index,nb_features=\"None\"):\n",
    "    plt.figure(figsize=(14,5))\n",
    "    serie=pd.Series(model.feature_importances_,index=index).sort_values(ascending=False)\n",
    "    if nb_features==\"None\":\n",
    "        serie.plot.bar(log=True)\n",
    "    else:\n",
    "        serie[:nb_features].plot.bar(log=True)\n",
    "        \n",
    "def final_model(model,X,seuil=0):\n",
    "    return model.decision_function(X) > seuil\n",
    "\n",
    "def comparaison_models(models,tests_set={}):\n",
    "    arrays=[\n",
    "        np.array([]),np.array([])\n",
    "    ]\n",
    "    d=np.array([])\n",
    "    for nom,model in models.items():\n",
    "        arrays[0]=np.append(arrays[0],[nom,nom])\n",
    "        arrays[1]=np.append(arrays[1],[\"No churn\",\"Churn\"])\n",
    "\n",
    "    for name,model in models.items():\n",
    "        x_test,y_test=tests_set.get(name)[0],tests_set.get(name)[1]\n",
    "        y_pred = model.predict(x_test)\n",
    "        res=precision_recall_fscore_support(y_test,y_pred)\n",
    "        accuracy=accuracy_score(y_test,y_pred)\n",
    "        res=list(res)\n",
    "        res.insert(3,np.array([accuracy,accuracy]))\n",
    "        res=tuple(res)\n",
    "        d=np.append(d,np.array([val[0]for val in res]))\n",
    "        d=np.append(d,np.array([val[1]for val in res]))\n",
    "\n",
    "    d=d.reshape(len(models)*2,5)\n",
    "    arrays=np.array(arrays)\n",
    "    data=pd.DataFrame(d,columns=[\"précison\",\"recall\",\"f1_score\",\"accuracy\",\"test_size\"])\n",
    "    data.iloc[:,:-1]=data.iloc[:,:-1].apply(lambda x:x*100)\n",
    "    data[\"Modèles\"]=arrays[0,:]\n",
    "    data[\"Etat\"]=arrays[1,:]\n",
    "    data=data.set_index(['Modèles'])\n",
    "    print(tabulate(data, tablefmt='grid',headers=\"keys\",showindex=\"always\"))\n",
    "    #data=data.set_index(['Modèles',\"accuracy\",'Etat'])\n",
    "    #display(HTML(data.to_html()))\n",
    "    \n",
    "def precision_recall_f1(model):\n",
    "    y_pred=model.predict(x_test)\n",
    "    res=precision_recall_fscore_support(y_test,y_pred)\n",
    "    data=pd.DataFrame(res,index=[\"précison\",\"recall\",\"f1_score\",\"test_size\"],columns=[\"No churn\",\"Churn\"])\n",
    "    sns.heatmap(data.iloc[:-1,:].apply(lambda x:x*100),vmin=0,annot=True,fmt=\".6g\",vmax=100)"
   ]
  },
  {
   "cell_type": "markdown",
   "metadata": {},
   "source": [
    "<center><h1>NAIVES BAYES</h1></center>"
   ]
  },
  {
   "cell_type": "code",
   "execution_count": null,
   "metadata": {},
   "outputs": [],
   "source": [
    "df1=df\n",
    "\n",
    "df1['Gender'] = df1['Gender'].map({'Male': 1, 'Female': 0})\n",
    "df1['Streaming Movies'] = df1['Streaming Movies'].map({'Yes': 1, 'No': 0, 'No internet service':0})\n",
    "df1['Streaming TV'] = df1['Streaming TV'].map({'Yes': 1, 'No': 0, 'No internet service':0})\n",
    "df1['Tech Support'] = df1['Tech Support'].map({'Yes': 1, 'No': 0, 'No internet service':0})\n",
    "df1['Device Protection'] = df1['Device Protection'].map({'Yes': 1, 'No': 0, 'No internet service':0})\n",
    "df1['Online Backup'] = df1['Online Backup'].map({'Yes': 1, 'No': 0, 'No internet service':0})\n",
    "df1['Online Security'] = df1['Online Security'].map({'Yes': 1, 'No': 0, 'No internet service':0})\n",
    "df1['Contract'] = df1['Contract'].map({'Month-to-month': 1, 'One year': 0, 'Two year':2})\n",
    "df1['Internet Service'] = df1['Internet Service'].map({'Fiber optic': 1, 'No': 0, 'DSL':2})\n",
    "df1['Total Charges'] = pd.to_numeric(df1['Total Charges'],errors='coerce')\n",
    "df1['Multiple Lines'] = df1['Multiple Lines'].map({'Yes': 1, 'No': 0, 'No phone service':0})\n",
    "df1['Phone Service'] = df1['Phone Service'].map({'Yes': 1, 'No': 0, 'No phone service':0})\n",
    "df1['Dependents'] = df1['Dependents'].map({'Yes': 1, 'No': 0, 'No internet service':0})\n",
    "df1['Partner'] = df1['Partner'].map({'Yes': 1, 'No': 0, 'No internet service':0})\n",
    "df1['Senior Citizen'] = df1['Senior Citizen'].map({'Yes': 1, 'No': 0, 'No internet service':0})\n",
    "df1['Paperless Billing'] = df1['Paperless Billing'].map({'Yes': 1, 'No': 0, 'No internet service':0})\n",
    "df1['Payment Method'] = df1['Payment Method'].map({'Mailed check': 1, 'Electronic check': 0, 'Bank transfer (automatic)':2, 'Credit card (automatic)': 3,})\n",
    "df1=df1.drop(['CustomerID','Count','Country','State','City','Zip Code','Lat Long','Latitude','Longitude','Churn Label','Churn Reason'],axis=1)\n",
    "df_fic=pd.get_dummies(df1) # pour transformer toutes les variables categoriques en num\n"
   ]
  },
  {
   "cell_type": "code",
   "execution_count": null,
   "metadata": {},
   "outputs": [],
   "source": [
    "#transformer les catégories de chaque caractéristique comme des valeurs numériques\n",
    "#On fait des changements a notre dataset en changeant toutes les donées en nombres\n",
    "df_naives=df1\n",
    "\n",
    "for col in df_naives.columns:\n",
    "    df_naives[col] = encodeur.fit_transform(df_naives[col])\n",
    "    \n",
    "#séparer les entrées (caractéristiques) et la sortie (classe)\n",
    "#On crée X qui contient nos données et Y qui contient les classes\n",
    "y = df_naives['Churn Value']  #les résulats (classes)\n",
    "X = df_naives.drop(['Churn Value'], axis =1) #les caractéristiques\n",
    "\n",
    "X_trainN, X_testN, y_trainN, y_testN = train_test_split(X, y, test_size=0.2, random_state=0,stratify=y)"
   ]
  },
  {
   "cell_type": "code",
   "execution_count": null,
   "metadata": {},
   "outputs": [],
   "source": [
    "#Cette fonction est essentiel pour le naive bayes classifier vu qu'il présente plusieurs méthodes : Gaussien Multinomial et Bernoulli. \n",
    "#On va calculer le score de chaqu'une de ces méthodes .\n",
    "\n",
    "nb = {'gaussian': GaussianNB(),\n",
    "      'bernoulli': BernoulliNB(),\n",
    "      'multinomial': MultinomialNB()}\n",
    "scores = {}\n",
    "for key, model in nb.items():\n",
    "    s = cross_val_score(model, X_trainN, y_trainN, cv=5, scoring='accuracy')\n",
    "    scores[key] = np.mean(s)\n",
    "scores"
   ]
  },
  {
   "cell_type": "code",
   "execution_count": null,
   "metadata": {},
   "outputs": [],
   "source": [
    "# modele à retenir celon celui qui a le meilleur score\n",
    "modele = GaussianNB()\n",
    "\n",
    "NaiveBayes=evaluation(X_trainN,y_trainN,X_testN,y_testN,modelList={\"NaiveBayes\":modele},confusion=True,roc_cu=False,learning_cu=False)"
   ]
  },
  {
   "cell_type": "markdown",
   "metadata": {},
   "source": [
    "<center><h1>REGRESSION LOGISTIQUE</h1></center>"
   ]
  },
  {
   "cell_type": "markdown",
   "metadata": {},
   "source": [
    "La régression logistique est utilisée pour le classement et pas la régression.\n",
    "Mais, elle est considéré comme une méthode de classification puisqu'elle sert à estimer la probabilité d'appartenir à une classe.\n",
    "Il y a trois types de régression logistique:\n",
    "- **Régression logistique binaire**: ici, le but de la classification est d'identifier si un échantillon appartient à une classe ou non.\n",
    "- **Régression logistique multinomiale**: ici, le but de la classification est d'identifier à quelle classe appartient-t-il un échantillon parmi plusieurs classes.\n",
    "- **Régression logistique ordinale**: ici, le but de la classification est de chercher la classe d'un échantillon parmi des classes ordonnées. Un exemple de classes: non satisfait, satisfait, très sataisfait."
   ]
  },
  {
   "cell_type": "code",
   "execution_count": null,
   "metadata": {},
   "outputs": [],
   "source": [
    "X = df1.drop(\"Churn Value\", axis=1)\n",
    "y = df1[\"Churn Value\"]\n",
    "X_trainL, X_testL, y_trainL, y_testL = train_test_split(X, y, test_size=0.2, random_state=0,stratify=y)\n",
    "\n",
    "X_trainL = scaler.fit_transform(X_trainL)\n",
    "X_testL = scaler.transform(X_testL)\n",
    "\n",
    "logreg = LogisticRegression(random_state=0)\n",
    "\n",
    "regressionL=evaluation(X_trainL,y_trainL,X_testL,y_testL,modelList={\"Regression Logistique\":logreg},confusion=True,roc_cu=True,learning_cu=False)"
   ]
  },
  {
   "cell_type": "code",
   "execution_count": null,
   "metadata": {},
   "outputs": [],
   "source": [
    "param =  {'penalty': ['l1', 'l2', 'elasticnet', 'none'],\n",
    "          'C' : np.linspace(0,10, 100),\n",
    "          'solver': ['newton-cg', 'lbfgs', 'liblinear', 'sag', 'saga'],\n",
    "          'max_iter': [100,1000, 2000, 3000]}\n",
    "\n",
    "log = LogisticRegression(random_state=0)\n",
    "grid = GridSearchCV(log, param_grid=param, cv =5, n_jobs=-1)\n",
    "#grid.fit(X_train, y_train)\n",
    "#grid.best_params_"
   ]
  },
  {
   "cell_type": "markdown",
   "metadata": {},
   "source": [
    "<h4>best parameters : {'C': 0.20202020202020202,\n",
    " 'max_iter': 100,\n",
    " 'penalty': 'l2',\n",
    " 'solver': 'liblinear'}</h4>"
   ]
  },
  {
   "cell_type": "code",
   "execution_count": null,
   "metadata": {},
   "outputs": [],
   "source": [
    "final_modelL = LogisticRegression(random_state=0, C=0.20202, penalty = 'l2', solver='liblinear', tol=0.2)\n",
    "\n",
    "regressionL=evaluation(X_trainL,y_trainL,X_testL,y_testL,modelList={\"Regression Logistique\":final_modelL},confusion=True,roc_cu=False,learning_cu=False)"
   ]
  },
  {
   "cell_type": "markdown",
   "metadata": {},
   "source": [
    "<center><h1>RANDOM FOREST CLASSIFIER</h1></center>"
   ]
  },
  {
   "cell_type": "code",
   "execution_count": null,
   "metadata": {},
   "outputs": [],
   "source": [
    "# Drop useless columns \n",
    "dfR = df.drop(['Count','Country','State','CustomerID','Lat Long','Churn Label'],axis=1)\n",
    "#One Hot Encoing using get_dummies method \n",
    "dfR = pd.get_dummies(dfR, columns = ['Contract','Dependents','Device Protection','Gender',\n",
    "                                   'Internet Service','Multiple Lines','Online Backup',\n",
    "                                   'Online Security','Paperless Billing','Partner',\n",
    "                                   'Payment Method','Phone Service','Senior Citizen',\n",
    "                                   'Streaming Movies','Streaming TV','Tech Support','City','Churn Reason'])"
   ]
  },
  {
   "cell_type": "code",
   "execution_count": null,
   "metadata": {},
   "outputs": [],
   "source": [
    "#Create Feature variable X and target variable y\n",
    "y = dfR['Churn Value']\n",
    "X = dfR.drop(['Churn Value'], axis =1)\n",
    "\n",
    "X_trainR, X_testR,y_trainR,y_testR = train_test_split(X, y, test_size = 0.20, random_state = 0,stratify = y)\n",
    "\n",
    "rfmodel = RandomForestClassifier(n_estimators=100 , criterion='gini',random_state=0) # par defaut au prémier lieux\n",
    "                                                                                        #justifier les choix des paramètres\n",
    "randomF=evaluation(X_trainR,y_trainR,X_testR,y_testR,modelList={\"Random Forest\":rfmodel},confusion=True,roc_cu=False,learning_cu=False)"
   ]
  },
  {
   "cell_type": "markdown",
   "metadata": {},
   "source": [
    "<center><h1>Famille de Gradient Boosting</h1></center>"
   ]
  },
  {
   "cell_type": "code",
   "execution_count": null,
   "metadata": {},
   "outputs": [],
   "source": [
    "df= pd.read_excel(\"Telco_customer_churn.csv.xlsx\")\n",
    "df[\"Total Charges\"]=pd.to_numeric(df[\"Total Charges\"],errors=\"coerce\")\n",
    "df[\"Total Charges\"]=df[\"Total Charges\"].astype(float)\n",
    "df=df[df[\"Total Charges\"].notna()]"
   ]
  },
  {
   "cell_type": "markdown",
   "metadata": {},
   "source": [
    "<h2>Features engineering</h2>\n",
    "<ul>\n",
    "    <li><h3>Création de nouvelles variables dans le but d'ameliorer la prédiction </h3></li>\n",
    "    <p><u>NB</u> ces variables créées ont découlé de la compréhension du dataset</p>\n",
    "</ul>"
   ]
  },
  {
   "cell_type": "code",
   "execution_count": null,
   "metadata": {},
   "outputs": [],
   "source": [
    "#service_cols=[\"Phone Service\",\"Multiple Lines\",\"Internet Service\",\"Online Security\",\"Online Backup\",\"Device Protection\",\"Tech Support\",\"Streaming TV\",\"Streaming Movies\",\"Paperless Billing\"]\n",
    "\n",
    "service_cols=['Phone Service', 'Internet Service', 'Online Security','Online Backup', 'Device Protection', 'Tech Support','Streaming TV', 'Streaming Movies']\n",
    "\n",
    "execptions=[\"Gender\",\t\"Senior Citizen\",\t\"Partner\",\t\"Dependents\",\t\"Phone Service\"\t,\"Paperless Billing\",\t \"Churn Label\",\"Churn Score\",\t\"Engaged\",\t\"ElectCheck\",\t\"fiberopt\",\t\"StreamNoInt\",\t\"NoProt\"] \n",
    "\n",
    "df.loc[:,'Engaged'] = np.where(df['Contract'] != 'Month-to-month', 1,0) # client avec un contrat month-to-month\n",
    "df.loc[:,'YandNotE'] = np.where((df['Senior Citizen']==0) & (df['Engaged']==0), 1,0) # si client est jeune et n'a pas souscrit a un abonnement month-to-month\n",
    "df.loc[:,'ElectCheck'] = np.where((df['Payment Method'] == 'Electronic check') & (df['Engaged']==0), 1,0) #si le client a paye par chèque electronique et n'a pas souscrit à un payement mensuel\n",
    "df.loc[:,'fiberopt'] = np.where((df['Internet Service'] != 'Fiber optic'), 1,0) # si le client utilise internet par fibre optique\n",
    "df.loc[:,'StreamNoInt'] = np.where((df['Streaming TV'] != 'No internet service'), 1,0) # si le client utilise le streaming TV sans internet\n",
    "df.loc[:,'NoProt'] = np.where((df['Online Backup'] != 'No') | (df['Device Protection'] != 'No') | (df['Tech Support'] != 'No'), 1,0) # si le client n'utilise pas au moins un service supplémentaire au service internet\n",
    "\n",
    "df['nb_subscriptions'] = (df[service_cols]== 'Yes').sum(axis=1) # le nombre de service auxquels le client a souscrit\n",
    "\n",
    "target_col=[\"Churn Label\"]\n",
    "cat_col=[]\n",
    "binary_col=[]\n",
    "multi_cat_col=[]\n",
    "delete_col=[\"Churn Value\",\"Count\",\"Zip Code\",'City','Zip Code','Lat Long','Latitude','Longitude',\"CustomerID\",\"Churn Reason\"]\n",
    "\n",
    "cat_col=df.nunique()[df.nunique() < 10].keys().tolist()\n",
    "cat_col=[x for x in cat_col if x not in delete_col]\n",
    "binary_col = df.nunique()[df.nunique() == 2].keys().tolist()\n",
    "multi_cat_col=[x for x in cat_col if x not in binary_col]\n",
    "\n"
   ]
  },
  {
   "cell_type": "code",
   "execution_count": null,
   "metadata": {},
   "outputs": [],
   "source": [
    "print(delete_col)\n",
    "df=df.drop(delete_col,axis=1,errors=\"ignore\")"
   ]
  },
  {
   "cell_type": "markdown",
   "metadata": {},
   "source": [
    "<ul>\n",
    "    <li><h3>Transformation des colones multicatégories en unicatégorie</h3></li>\n",
    "</ul>"
   ]
  },
  {
   "cell_type": "code",
   "execution_count": null,
   "metadata": {},
   "outputs": [],
   "source": [
    "df=pd.get_dummies(data=df,columns=multi_cat_col)    \n"
   ]
  },
  {
   "cell_type": "markdown",
   "metadata": {},
   "source": [
    "<h2>Encodage</h2>"
   ]
  },
  {
   "cell_type": "code",
   "execution_count": null,
   "metadata": {},
   "outputs": [],
   "source": [
    "#col_to_standardScale=[col for col in features.columns if col not in execptions]\n",
    "#col_to_encode=[col for col in binary_col if col not in delete_col]\n",
    "encoder = LabelEncoder()\n",
    "for col in binary_col:\n",
    "    if col not in delete_col:\n",
    "        df[col]=encoder.fit_transform(df[col])\n",
    "\n"
   ]
  },
  {
   "cell_type": "code",
   "execution_count": null,
   "metadata": {},
   "outputs": [],
   "source": [
    "features=df.drop(target_col,axis=1)\n",
    "target=df[target_col].values.reshape(features.shape[0])"
   ]
  },
  {
   "cell_type": "markdown",
   "metadata": {},
   "source": [
    "<h2>SelectKBest</h2>"
   ]
  },
  {
   "cell_type": "code",
   "execution_count": null,
   "metadata": {},
   "outputs": [],
   "source": [
    "selector=SelectKBest(score_func=chi2,k=features.shape[1])\n",
    "fit=selector.fit_transform(features,target)\n",
    "dd=pd.DataFrame(fit.sum(axis=0))\n",
    "dd.index =features.columns\n",
    "dd.sort_values(dd.columns[0],ascending=False).iloc[:10].plot.bar(log=True)"
   ]
  },
  {
   "cell_type": "markdown",
   "metadata": {},
   "source": [
    "<h2>Normalisation</h2>"
   ]
  },
  {
   "cell_type": "code",
   "execution_count": null,
   "metadata": {},
   "outputs": [],
   "source": [
    "cols=[col for col in features.columns if col not in execptions]\n",
    "scaler=StandardScaler() \n",
    "data=scaler.fit_transform(df[cols])\n",
    "right=pd.DataFrame(data,columns=cols)\n",
    "left=pd.DataFrame(df[execptions],columns=execptions)\n",
    "data=left.merge(right, left_index=True, right_index=True,how=\"left\")\n"
   ]
  },
  {
   "cell_type": "code",
   "execution_count": null,
   "metadata": {},
   "outputs": [],
   "source": [
    "data.dropna(axis=0,inplace=True)\n",
    "features=data.drop(target_col,axis=1)\n",
    "target=data[target_col].values.reshape(features.shape[0])\n"
   ]
  },
  {
   "cell_type": "markdown",
   "metadata": {},
   "source": [
    "<h1>Division train_set et test_set</h1>"
   ]
  },
  {
   "cell_type": "code",
   "execution_count": null,
   "metadata": {},
   "outputs": [],
   "source": [
    "x_train,x_test,y_train,y_test=train_test_split(features,target,test_size=0.2,random_state=0,stratify=target)\n"
   ]
  },
  {
   "cell_type": "markdown",
   "metadata": {},
   "source": [
    "# Comparaison des modèles avec les paramètres de base\n",
    "\n",
    "<h3>Les modèles sont classés de facon décroissante de performance par la courbe ROC </h3>\n",
    "<p>Les 3 modèles sont :</p>\n",
    "<ul>\n",
    "    <li>LGBMClassifier avec une aire de 0.9975258951124759</li>\n",
    "    <li>XGBClassifier avec une aire de 0.9971576321208317</li>\n",
    "    <li>GradientBoostingClassifier avec une aire de 0.9969670171216356</li>\n",
    "</ul>\n",
    "\n",
    "<h3>La courbe ROC est suivie du Classification repport, Confusion metric et Learning curve de chaque modèle</h3>"
   ]
  },
  {
   "cell_type": "code",
   "execution_count": null,
   "metadata": {},
   "outputs": [],
   "source": [
    "xgb = XGBClassifier()\n",
    "gboost=GradientBoostingClassifier()\n",
    "lgbm=LGBMClassifier()\n"
   ]
  },
  {
   "cell_type": "code",
   "execution_count": null,
   "metadata": {},
   "outputs": [],
   "source": [
    "modelList={\"XGBClassifier\":xgb,\"GradientBoost\":gboost,\"LGBMClassifier\":lgbm}\n",
    "modelsBase=evaluation(x_train,y_train,x_test,y_test,modelList,True,learning_cu=True)"
   ]
  },
  {
   "cell_type": "markdown",
   "metadata": {},
   "source": [
    "### Example de réglage des hyper paramètres (cas du GradientBoostingClassifier)"
   ]
  },
  {
   "cell_type": "markdown",
   "metadata": {},
   "source": [
    "<ul>\n",
    "    <li>réglage du n_estimators</li>\n",
    "</ul>"
   ]
  },
  {
   "cell_type": "code",
   "execution_count": null,
   "metadata": {},
   "outputs": [],
   "source": [
    "paramsGB1={\"n_estimators\":range(290,321,10)}\n",
    "model=GradientBoostingClassifier(learning_rate=0.2, min_samples_split=35,min_samples_leaf=3,max_depth=8,max_features='sqrt',subsample=0.8,random_state=0)\n",
    "grid1=GridSearchCV(model, param_grid = paramsGB1, scoring='recall',n_jobs=4, cv=5)\n",
    "grid1.fit(x_train,y_train)\n",
    "print( grid1.best_params_, grid1.best_score_)"
   ]
  },
  {
   "cell_type": "markdown",
   "metadata": {},
   "source": [
    "<ul>\n",
    "    <li>réglage du max_depth et min_samples_split</li>\n",
    "</ul>"
   ]
  },
  {
   "cell_type": "code",
   "execution_count": null,
   "metadata": {},
   "outputs": [],
   "source": [
    "paramsGB1={\"max_depth\":range(3,6,1),'min_samples_split':range(420,451,10)}\n",
    "model=GradientBoostingClassifier(learning_rate=0.2,n_estimators=310, min_samples_split=35,min_samples_leaf=3,max_features='sqrt',subsample=0.8,random_state=0)\n",
    "grid1=GridSearchCV(model, param_grid = paramsGB1, scoring='recall',n_jobs=4, cv=5)\n",
    "grid1.fit(x_train,y_train)\n",
    "print( grid1.best_params_, grid1.best_score_)"
   ]
  },
  {
   "cell_type": "markdown",
   "metadata": {},
   "source": [
    "<ul>\n",
    "    <li>réglage du min_samples_leaf et max_features</li>\n",
    "</ul>"
   ]
  },
  {
   "cell_type": "code",
   "execution_count": null,
   "metadata": {},
   "outputs": [],
   "source": [
    "paramsGB1={'min_samples_leaf':range(29,40,1),'max_features':range(7,12,2)}\n",
    "model=GradientBoostingClassifier(learning_rate=0.2,n_estimators=310, min_samples_split=430,max_features='sqrt',subsample=0.8,random_state=0)\n",
    "grid1=GridSearchCV(model, param_grid = paramsGB1, scoring='recall',n_jobs=4, cv=5)\n",
    "grid1.fit(x_train,y_train)\n",
    "print( grid1.best_params_, grid1.best_score_)"
   ]
  },
  {
   "cell_type": "markdown",
   "metadata": {},
   "source": [
    "<ul>\n",
    "    <li>réglage du subsample</li>\n",
    "</ul>"
   ]
  },
  {
   "cell_type": "code",
   "execution_count": null,
   "metadata": {},
   "outputs": [],
   "source": [
    "paramsGB1={'subsample':[0.6,0.7,0.75,0.8,0.85,0.9]}\n",
    "model=GradientBoostingClassifier(learning_rate=0.2,n_estimators=310,max_depth=5,min_samples_split=430,min_samples_leaf=32,max_features=8 ,random_state=0)\n",
    "grid1=GridSearchCV(model, param_grid = paramsGB1, scoring='recall',n_jobs=4, cv=5)\n",
    "grid1.fit(x_train,y_train)\n",
    "print( grid1.best_params_, grid1.best_score_)"
   ]
  },
  {
   "cell_type": "markdown",
   "metadata": {},
   "source": [
    "<h1> Comparaison des modèles améliorés </h3>\n",
    "<h3>Nous remarquons que la plupart des modèles ont besoin de plus de données pour devenir plus performant</h3>"
   ]
  },
  {
   "cell_type": "code",
   "execution_count": null,
   "metadata": {},
   "outputs": [],
   "source": [
    "modelLGBM = LGBMClassifier(num_leaves=17,max_depth=10,learning_rate=0.1,n_estimators=32,subsample_for_bin=200000,min_split_gain=0.0,min_child_weight=0.001,min_child_samples=1,subsample=0.6,subsample_freq=0,colsample_bytree=1.0,reg_alpha=1e-08,reg_lambda=1e-08,random_state=0)\n",
    "modelGB = GradientBoostingClassifier(learning_rate=0.2,n_estimators=310,max_depth=5,min_samples_split=430,min_samples_leaf=32,max_features=7 ,random_state=0)\n",
    "modelRF = RandomForestClassifier(n_estimators=190,max_depth=7,min_samples_split=29,max_leaf_nodes=30,min_samples_leaf=1,max_samples=0.7,max_features=19,random_state=0)\n",
    "modelXGB = XGBClassifier(n_estimators=250,learning_rate=0.1,max_depth=5,min_child_weight=0.001,gamma = 0.3,subsample=1,colsample_bytree = 0.83,reg_alpha=1e-5,scale_pos_weight=600)"
   ]
  },
  {
   "cell_type": "code",
   "execution_count": null,
   "metadata": {},
   "outputs": [],
   "source": [
    "modelList={\"XGBClassifier\":modelXGB,\"Gradientboost\":modelGB,\"LGBMClassifier\":modelLGBM}\n",
    "models=evaluation(x_train,y_train,x_test,y_test,modelList,True,learning_cu=True)"
   ]
  },
  {
   "cell_type": "code",
   "execution_count": null,
   "metadata": {},
   "outputs": [],
   "source": [
    "best_model=models[\"LGBMClassifier\"]"
   ]
  },
  {
   "cell_type": "markdown",
   "metadata": {},
   "source": [
    "<h1>Features importances du modéle LGBM</h1>"
   ]
  },
  {
   "cell_type": "code",
   "execution_count": null,
   "metadata": {},
   "outputs": [],
   "source": [
    "featuresImportances(best_model,features.columns,20)"
   ]
  },
  {
   "cell_type": "markdown",
   "metadata": {},
   "source": [
    "<h1>Résultats finaux </h1>"
   ]
  },
  {
   "cell_type": "markdown",
   "metadata": {},
   "source": [
    "<h2>Les 2 meilleurs modèles sont LGBMClassifier et GradientBoostingClassifier</h2>\n",
    "<ul>\n",
    "    <li>LGBMClassifier</li>\n",
    "</ul>"
   ]
  },
  {
   "cell_type": "code",
   "execution_count": null,
   "metadata": {},
   "outputs": [],
   "source": [
    "precision_recall_f1(best_model)"
   ]
  },
  {
   "cell_type": "markdown",
   "metadata": {},
   "source": [
    "<ul>\n",
    "    <li>GradientBoostingClassifier</li>\n",
    "</ul>"
   ]
  },
  {
   "cell_type": "code",
   "execution_count": null,
   "metadata": {},
   "outputs": [],
   "source": [
    "precision_recall_f1(models[\"Gradientboost\"])"
   ]
  },
  {
   "cell_type": "markdown",
   "metadata": {},
   "source": [
    "<ul>\n",
    "    <li>Tableau comparatif</li>\n",
    "</ul>"
   ]
  },
  {
   "cell_type": "code",
   "execution_count": null,
   "metadata": {},
   "outputs": [],
   "source": [
    "models[\"Regression Logist\"]=regressionL[\"Regression Logistique\"]\n",
    "models[\"RamdomForest\"]=randomF[\"Random Forest\"]\n",
    "models[\"NaiveBayes\"]=NaiveBayes[\"NaiveBayes\"]\n",
    "models"
   ]
  },
  {
   "cell_type": "code",
   "execution_count": null,
   "metadata": {},
   "outputs": [],
   "source": [
    "test_set={\n",
    "    \"XGBClassifier\":[x_test,y_test],\n",
    "    \"Gradientboost\":[x_test,y_test],\n",
    "    \"LGBMClassifier\":[x_test,y_test],\n",
    "    \"Regression Logist\":[X_testL,y_testL],\n",
    "    \"RamdomForest\":[X_testR,y_testR],\n",
    "    \"NaiveBayes\":[X_testN,y_testN],\n",
    "}\n",
    "comparaison_models(models,test_set) "
   ]
  },
  {
   "cell_type": "code",
   "execution_count": null,
   "metadata": {},
   "outputs": [],
   "source": []
  },
  {
   "cell_type": "code",
   "execution_count": null,
   "metadata": {},
   "outputs": [],
   "source": []
  }
 ],
 "metadata": {
  "kernelspec": {
   "display_name": "Python 3",
   "language": "python",
   "name": "python3"
  },
  "language_info": {
   "codemirror_mode": {
    "name": "ipython",
    "version": 3
   },
   "file_extension": ".py",
   "mimetype": "text/x-python",
   "name": "python",
   "nbconvert_exporter": "python",
   "pygments_lexer": "ipython3",
   "version": "3.7.10"
  }
 },
 "nbformat": 4,
 "nbformat_minor": 4
}
